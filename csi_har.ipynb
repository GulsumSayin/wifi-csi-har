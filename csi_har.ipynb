{
  "cells": [
    {
      "cell_type": "markdown",
      "metadata": {
        "id": "view-in-github",
        "colab_type": "text"
      },
      "source": [
        "<a href=\"https://colab.research.google.com/github/GulsumSayin/wifi-csi-har/blob/main/csi_har.ipynb\" target=\"_parent\"><img src=\"https://colab.research.google.com/assets/colab-badge.svg\" alt=\"Open In Colab\"/></a>"
      ]
    },
    {
      "cell_type": "markdown",
      "source": [
        "**Drive'a Bağlanma**"
      ],
      "metadata": {
        "id": "4qPUqn1-_lId"
      }
    },
    {
      "cell_type": "code",
      "execution_count": null,
      "metadata": {
        "colab": {
          "base_uri": "https://localhost:8080/"
        },
        "id": "5smXMrr7fwCJ",
        "outputId": "95a0e87c-4b82-48d4-a83a-c7bd0722ca51"
      },
      "outputs": [
        {
          "name": "stdout",
          "output_type": "stream",
          "text": [
            "Mounted at /content/drive\n"
          ]
        }
      ],
      "source": [
        "from google.colab import drive\n",
        "drive.mount('/content/drive')"
      ]
    },
    {
      "cell_type": "markdown",
      "source": [
        "**Veri Setinin Model Girişine Uygun Hale Getirilmesi**"
      ],
      "metadata": {
        "id": "ouIfGAx7_rio"
      }
    },
    {
      "cell_type": "code",
      "execution_count": null,
      "metadata": {
        "id": "GTc6yYBqfwXt"
      },
      "outputs": [],
      "source": [
        "# Veri seti yolunu ayarlama\n",
        "root = \"/content/drive/MyDrive/wifi_csi_har_dataset\""
      ]
    },
    {
      "cell_type": "code",
      "execution_count": null,
      "metadata": {
        "colab": {
          "base_uri": "https://localhost:8080/"
        },
        "id": "d81vcR8KfwaN",
        "outputId": "75f86436-76a5-4e07-a9d7-2a3ceaeb7755"
      },
      "outputs": [
        {
          "name": "stdout",
          "output_type": "stream",
          "text": [
            "X shape: (67439, 1026)\n",
            "y shape: (67429,)\n",
            "Benzersiz etiketler: ['get_down' 'get_up' 'lying' 'no_person' 'sitting' 'standing' 'walking']\n"
          ]
        }
      ],
      "source": [
        "import os\n",
        "import pandas as pd\n",
        "import numpy as np\n",
        "\n",
        "def load_dataset(root):\n",
        "    all_data, all_labels = [], []\n",
        "\n",
        "    for room in os.listdir(root):\n",
        "        room_path = os.path.join(root, room)\n",
        "        if not os.path.isdir(room_path):\n",
        "            continue\n",
        "        for sub in os.listdir(room_path):\n",
        "            sub_path = os.path.join(room_path, sub)\n",
        "            data_file = os.path.join(sub_path, \"data.csv\")\n",
        "            label_file = os.path.join(sub_path, \"label.csv\")\n",
        "\n",
        "            if os.path.exists(data_file) and os.path.exists(label_file):\n",
        "                # data.csv içeriğini al\n",
        "                data = pd.read_csv(data_file).values\n",
        "                # label.csv'nin sadece 2. sütununu (etiket) al\n",
        "                labels = pd.read_csv(label_file, usecols=[1]).values.ravel()\n",
        "\n",
        "                all_data.append(data)\n",
        "                all_labels.append(labels)\n",
        "\n",
        "    X = np.vstack(all_data)\n",
        "    y = np.hstack(all_labels).astype(str)  # hepsi string olsun\n",
        "    return X, y\n",
        "\n",
        "# Kullanım\n",
        "X, y = load_dataset(root)\n",
        "print(\"X shape:\", X.shape)\n",
        "print(\"y shape:\", y.shape)\n",
        "print(\"Benzersiz etiketler:\", np.unique(y))"
      ]
    },
    {
      "cell_type": "code",
      "execution_count": null,
      "metadata": {
        "colab": {
          "base_uri": "https://localhost:8080/",
          "height": 643
        },
        "id": "Q7y0Vr8zhX7q",
        "outputId": "a7a14031-026f-4762-cb2e-2d2795eeb5cf"
      },
      "outputs": [
        {
          "name": "stdout",
          "output_type": "stream",
          "text": [
            "Toplam örnek sayısı: 67429\n",
            "\n",
            "Sınıf get_down: 2750 örnek, %4.08\n",
            "Sınıf get_up: 2495 örnek, %3.70\n",
            "Sınıf lying: 7400 örnek, %10.97\n",
            "Sınıf no_person: 8620 örnek, %12.78\n",
            "Sınıf sitting: 9340 örnek, %13.85\n",
            "Sınıf standing: 7380 örnek, %10.94\n",
            "Sınıf walking: 29444 örnek, %43.67\n"
          ]
        },
        {
          "data": {
            "image/png": "[encoded data removed]",
            "text/plain": [
              "<Figure size 800x500 with 1 Axes>"
            ]
          },
          "metadata": {},
          "output_type": "display_data"
        }
      ],
      "source": [
        "import numpy as np\n",
        "import pandas as pd\n",
        "\n",
        "# y zaten yüklenmiş\n",
        "unique, counts = np.unique(y, return_counts=True)\n",
        "total = len(y)\n",
        "\n",
        "print(f\"Toplam örnek sayısı: {total}\\n\")\n",
        "for cls, cnt in zip(unique, counts):\n",
        "    print(f\"Sınıf {cls}: {cnt} örnek, %{cnt/total*100:.2f}\")\n",
        "\n",
        "# Görselleştirme (opsiyonel)\n",
        "import matplotlib.pyplot as plt\n",
        "\n",
        "plt.figure(figsize=(8,5))\n",
        "plt.bar([str(u) for u in unique], counts, color='skyblue')\n",
        "plt.xlabel(\"Sınıflar\")\n",
        "plt.ylabel(\"Örnek Sayısı\")\n",
        "plt.title(\"Sınıf Dağılımı\")\n",
        "plt.show()"
      ]
    },
    {
      "cell_type": "code",
      "execution_count": null,
      "metadata": {
        "colab": {
          "base_uri": "https://localhost:8080/"
        },
        "id": "mNWQuwftqb6S",
        "outputId": "44483bdf-923b-429a-fb37-fde333a7ee19"
      },
      "outputs": [
        {
          "name": "stdout",
          "output_type": "stream",
          "text": [
            "Sınıflar: ['get_down' 'get_up' 'lying' 'no_person' 'sitting' 'standing' 'walking']\n"
          ]
        }
      ],
      "source": [
        "from sklearn.preprocessing import LabelEncoder\n",
        "from tensorflow.keras.utils import to_categorical\n",
        "le = LabelEncoder()\n",
        "y_enc = le.fit_transform(y)\n",
        "y_cat = to_categorical(y_enc)\n",
        "num_classes = len(le.classes_)\n",
        "print(\"Sınıflar:\", le.classes_)"
      ]
    },
    {
      "cell_type": "code",
      "execution_count": null,
      "metadata": {
        "colab": {
          "base_uri": "https://localhost:8080/"
        },
        "id": "l8BT0tKWqb-h",
        "outputId": "36d3254d-8305-455b-891d-4d6617a8218a"
      },
      "outputs": [
        {
          "name": "stdout",
          "output_type": "stream",
          "text": [
            "Yeni X shape: (67374, 114, 9, 1)\n"
          ]
        }
      ],
      "source": [
        "# CSI reshape\n",
        "total_samples = (X.shape[0] // 114) * 114  # tam bölünecek sayı\n",
        "X = X[:total_samples].reshape(-1, 114, 9, 1)\n",
        "print(\"Yeni X shape:\", X.shape)"
      ]
    },
    {
      "cell_type": "code",
      "execution_count": null,
      "metadata": {
        "colab": {
          "base_uri": "https://localhost:8080/"
        },
        "id": "KVN3N4IsrHnp",
        "outputId": "73cb7295-2bff-4d0b-8ff2-74767ec5254c"
      },
      "outputs": [
        {
          "name": "stdout",
          "output_type": "stream",
          "text": [
            "Yeni boyutlar: (67374, 114, 9, 1) (67374,)\n"
          ]
        }
      ],
      "source": [
        "# X ve y dizinlerini eşleştirmek\n",
        "min_len = min(len(X), len(y))\n",
        "X = X[:min_len]\n",
        "y = y[:min_len]\n",
        "\n",
        "print(\"Yeni boyutlar:\", X.shape, y.shape)"
      ]
    },
    {
      "cell_type": "code",
      "execution_count": null,
      "metadata": {
        "id": "6vJoeHoZfwct"
      },
      "outputs": [],
      "source": [
        "from sklearn.model_selection import train_test_split\n",
        "\n",
        "X_train, X_test, y_train, y_test = train_test_split(\n",
        "    X, y, test_size=0.2, stratify=y, random_state=42\n",
        ")"
      ]
    },
    {
      "cell_type": "code",
      "execution_count": null,
      "metadata": {
        "colab": {
          "base_uri": "https://localhost:8080/"
        },
        "id": "af816037",
        "outputId": "a96f4d6c-acf3-47ac-f8ee-d43593e4a651"
      },
      "outputs": [
        {
          "name": "stdout",
          "output_type": "stream",
          "text": [
            "y_train_cat shape: (53899, 7)\n",
            "y_test_cat shape: (13475, 7)\n"
          ]
        }
      ],
      "source": [
        "# Encode y_train and y_test\n",
        "y_train_enc = le.transform(y_train)\n",
        "y_test_enc = le.transform(y_test)\n",
        "\n",
        "y_train_cat = to_categorical(y_train_enc, num_classes=num_classes)\n",
        "y_test_cat = to_categorical(y_test_enc, num_classes=num_classes)\n",
        "\n",
        "print(\"y_train_cat shape:\", y_train_cat.shape)\n",
        "print(\"y_test_cat shape:\", y_test_cat.shape)"
      ]
    },
    {
      "cell_type": "code",
      "execution_count": null,
      "metadata": {
        "colab": {
          "base_uri": "https://localhost:8080/"
        },
        "id": "8k7rdvTbfwe9",
        "outputId": "5f205c36-82a8-47cf-c859-308b8a973553"
      },
      "outputs": [
        {
          "name": "stdout",
          "output_type": "stream",
          "text": [
            "Class Weights: {0: 3.499935064935065, 1: 3.857643859146865, 2: 1.3006515444015443, 3: 1.116568611203182, 4: 1.0304947996329152, 5: 1.31396879570941, 6: 0.3268884373957607}\n"
          ]
        }
      ],
      "source": [
        "# 4. Class weights\n",
        "from sklearn.utils.class_weight import compute_class_weight\n",
        "class_weights = compute_class_weight(\n",
        "    class_weight='balanced',\n",
        "    classes=np.unique(y_train_enc),\n",
        "    y=y_train_enc\n",
        ")\n",
        "class_weights = {int(i): float(w) for i, w in enumerate(class_weights)}\n",
        "print(\"Class Weights:\", class_weights)"
      ]
    },
    {
      "cell_type": "markdown",
      "source": [
        "**Model**"
      ],
      "metadata": {
        "id": "8sFjAinAADOe"
      }
    },
    {
      "cell_type": "code",
      "execution_count": null,
      "metadata": {
        "colab": {
          "base_uri": "https://localhost:8080/",
          "height": 712
        },
        "id": "EW3N6TJma_IV",
        "outputId": "bac313e3-cea0-45e1-9731-089171271bd7"
      },
      "outputs": [
        {
          "name": "stderr",
          "output_type": "stream",
          "text": [
            "/usr/local/lib/python3.12/dist-packages/keras/src/layers/convolutional/base_conv.py:113: UserWarning: Do not pass an `input_shape`/`input_dim` argument to a layer. When using Sequential models, prefer using an `Input(shape)` object as the first layer in the model instead.\n",
            "  super().__init__(activity_regularizer=activity_regularizer, **kwargs)\n"
          ]
        },
        {
          "data": {
            "text/html": [
              "<pre style=\"white-space:pre;overflow-x:auto;line-height:normal;font-family:Menlo,'DejaVu Sans Mono',consolas,'Courier New',monospace\"><span style=\"font-weight: bold\">Model: \"sequential_1\"</span>\n",
              "</pre>\n"
            ],
            "text/plain": [
              "\u001b[1mModel: \"sequential_1\"\u001b[0m\n"
            ]
          },
          "metadata": {},
          "output_type": "display_data"
        },
        {
          "data": {
            "text/html": [
              "<pre style=\"white-space:pre;overflow-x:auto;line-height:normal;font-family:Menlo,'DejaVu Sans Mono',consolas,'Courier New',monospace\">┏━━━━━━━━━━━━━━━━━━━━━━━━━━━━━━━━━┳━━━━━━━━━━━━━━━━━━━━━━━━┳━━━━━━━━━━━━━━━┓\n",
              "┃<span style=\"font-weight: bold\"> Layer (type)                    </span>┃<span style=\"font-weight: bold\"> Output Shape           </span>┃<span style=\"font-weight: bold\">       Param # </span>┃\n",
              "┡━━━━━━━━━━━━━━━━━━━━━━━━━━━━━━━━━╇━━━━━━━━━━━━━━━━━━━━━━━━╇━━━━━━━━━━━━━━━┩\n",
              "│ conv2d_3 (<span style=\"color: #0087ff; text-decoration-color: #0087ff\">Conv2D</span>)               │ (<span style=\"color: #00d7ff; text-decoration-color: #00d7ff\">None</span>, <span style=\"color: #00af00; text-decoration-color: #00af00\">114</span>, <span style=\"color: #00af00; text-decoration-color: #00af00\">9</span>, <span style=\"color: #00af00; text-decoration-color: #00af00\">32</span>)     │           <span style=\"color: #00af00; text-decoration-color: #00af00\">320</span> │\n",
              "├─────────────────────────────────┼────────────────────────┼───────────────┤\n",
              "│ batch_normalization_3           │ (<span style=\"color: #00d7ff; text-decoration-color: #00d7ff\">None</span>, <span style=\"color: #00af00; text-decoration-color: #00af00\">114</span>, <span style=\"color: #00af00; text-decoration-color: #00af00\">9</span>, <span style=\"color: #00af00; text-decoration-color: #00af00\">32</span>)     │           <span style=\"color: #00af00; text-decoration-color: #00af00\">128</span> │\n",
              "│ (<span style=\"color: #0087ff; text-decoration-color: #0087ff\">BatchNormalization</span>)            │                        │               │\n",
              "├─────────────────────────────────┼────────────────────────┼───────────────┤\n",
              "│ re_lu_3 (<span style=\"color: #0087ff; text-decoration-color: #0087ff\">ReLU</span>)                  │ (<span style=\"color: #00d7ff; text-decoration-color: #00d7ff\">None</span>, <span style=\"color: #00af00; text-decoration-color: #00af00\">114</span>, <span style=\"color: #00af00; text-decoration-color: #00af00\">9</span>, <span style=\"color: #00af00; text-decoration-color: #00af00\">32</span>)     │             <span style=\"color: #00af00; text-decoration-color: #00af00\">0</span> │\n",
              "├─────────────────────────────────┼────────────────────────┼───────────────┤\n",
              "│ max_pooling2d_2 (<span style=\"color: #0087ff; text-decoration-color: #0087ff\">MaxPooling2D</span>)  │ (<span style=\"color: #00d7ff; text-decoration-color: #00d7ff\">None</span>, <span style=\"color: #00af00; text-decoration-color: #00af00\">57</span>, <span style=\"color: #00af00; text-decoration-color: #00af00\">4</span>, <span style=\"color: #00af00; text-decoration-color: #00af00\">32</span>)      │             <span style=\"color: #00af00; text-decoration-color: #00af00\">0</span> │\n",
              "├─────────────────────────────────┼────────────────────────┼───────────────┤\n",
              "│ conv2d_4 (<span style=\"color: #0087ff; text-decoration-color: #0087ff\">Conv2D</span>)               │ (<span style=\"color: #00d7ff; text-decoration-color: #00d7ff\">None</span>, <span style=\"color: #00af00; text-decoration-color: #00af00\">57</span>, <span style=\"color: #00af00; text-decoration-color: #00af00\">4</span>, <span style=\"color: #00af00; text-decoration-color: #00af00\">64</span>)      │        <span style=\"color: #00af00; text-decoration-color: #00af00\">18,496</span> │\n",
              "├─────────────────────────────────┼────────────────────────┼───────────────┤\n",
              "│ batch_normalization_4           │ (<span style=\"color: #00d7ff; text-decoration-color: #00d7ff\">None</span>, <span style=\"color: #00af00; text-decoration-color: #00af00\">57</span>, <span style=\"color: #00af00; text-decoration-color: #00af00\">4</span>, <span style=\"color: #00af00; text-decoration-color: #00af00\">64</span>)      │           <span style=\"color: #00af00; text-decoration-color: #00af00\">256</span> │\n",
              "│ (<span style=\"color: #0087ff; text-decoration-color: #0087ff\">BatchNormalization</span>)            │                        │               │\n",
              "├─────────────────────────────────┼────────────────────────┼───────────────┤\n",
              "│ re_lu_4 (<span style=\"color: #0087ff; text-decoration-color: #0087ff\">ReLU</span>)                  │ (<span style=\"color: #00d7ff; text-decoration-color: #00d7ff\">None</span>, <span style=\"color: #00af00; text-decoration-color: #00af00\">57</span>, <span style=\"color: #00af00; text-decoration-color: #00af00\">4</span>, <span style=\"color: #00af00; text-decoration-color: #00af00\">64</span>)      │             <span style=\"color: #00af00; text-decoration-color: #00af00\">0</span> │\n",
              "├─────────────────────────────────┼────────────────────────┼───────────────┤\n",
              "│ max_pooling2d_3 (<span style=\"color: #0087ff; text-decoration-color: #0087ff\">MaxPooling2D</span>)  │ (<span style=\"color: #00d7ff; text-decoration-color: #00d7ff\">None</span>, <span style=\"color: #00af00; text-decoration-color: #00af00\">28</span>, <span style=\"color: #00af00; text-decoration-color: #00af00\">2</span>, <span style=\"color: #00af00; text-decoration-color: #00af00\">64</span>)      │             <span style=\"color: #00af00; text-decoration-color: #00af00\">0</span> │\n",
              "├─────────────────────────────────┼────────────────────────┼───────────────┤\n",
              "│ conv2d_5 (<span style=\"color: #0087ff; text-decoration-color: #0087ff\">Conv2D</span>)               │ (<span style=\"color: #00d7ff; text-decoration-color: #00d7ff\">None</span>, <span style=\"color: #00af00; text-decoration-color: #00af00\">28</span>, <span style=\"color: #00af00; text-decoration-color: #00af00\">2</span>, <span style=\"color: #00af00; text-decoration-color: #00af00\">128</span>)     │        <span style=\"color: #00af00; text-decoration-color: #00af00\">73,856</span> │\n",
              "├─────────────────────────────────┼────────────────────────┼───────────────┤\n",
              "│ batch_normalization_5           │ (<span style=\"color: #00d7ff; text-decoration-color: #00d7ff\">None</span>, <span style=\"color: #00af00; text-decoration-color: #00af00\">28</span>, <span style=\"color: #00af00; text-decoration-color: #00af00\">2</span>, <span style=\"color: #00af00; text-decoration-color: #00af00\">128</span>)     │           <span style=\"color: #00af00; text-decoration-color: #00af00\">512</span> │\n",
              "│ (<span style=\"color: #0087ff; text-decoration-color: #0087ff\">BatchNormalization</span>)            │                        │               │\n",
              "├─────────────────────────────────┼────────────────────────┼───────────────┤\n",
              "│ re_lu_5 (<span style=\"color: #0087ff; text-decoration-color: #0087ff\">ReLU</span>)                  │ (<span style=\"color: #00d7ff; text-decoration-color: #00d7ff\">None</span>, <span style=\"color: #00af00; text-decoration-color: #00af00\">28</span>, <span style=\"color: #00af00; text-decoration-color: #00af00\">2</span>, <span style=\"color: #00af00; text-decoration-color: #00af00\">128</span>)     │             <span style=\"color: #00af00; text-decoration-color: #00af00\">0</span> │\n",
              "├─────────────────────────────────┼────────────────────────┼───────────────┤\n",
              "│ flatten (<span style=\"color: #0087ff; text-decoration-color: #0087ff\">Flatten</span>)               │ (<span style=\"color: #00d7ff; text-decoration-color: #00d7ff\">None</span>, <span style=\"color: #00af00; text-decoration-color: #00af00\">7168</span>)           │             <span style=\"color: #00af00; text-decoration-color: #00af00\">0</span> │\n",
              "├─────────────────────────────────┼────────────────────────┼───────────────┤\n",
              "│ dense_2 (<span style=\"color: #0087ff; text-decoration-color: #0087ff\">Dense</span>)                 │ (<span style=\"color: #00d7ff; text-decoration-color: #00d7ff\">None</span>, <span style=\"color: #00af00; text-decoration-color: #00af00\">128</span>)            │       <span style=\"color: #00af00; text-decoration-color: #00af00\">917,632</span> │\n",
              "├─────────────────────────────────┼────────────────────────┼───────────────┤\n",
              "│ dropout_1 (<span style=\"color: #0087ff; text-decoration-color: #0087ff\">Dropout</span>)             │ (<span style=\"color: #00d7ff; text-decoration-color: #00d7ff\">None</span>, <span style=\"color: #00af00; text-decoration-color: #00af00\">128</span>)            │             <span style=\"color: #00af00; text-decoration-color: #00af00\">0</span> │\n",
              "├─────────────────────────────────┼────────────────────────┼───────────────┤\n",
              "│ dense_3 (<span style=\"color: #0087ff; text-decoration-color: #0087ff\">Dense</span>)                 │ (<span style=\"color: #00d7ff; text-decoration-color: #00d7ff\">None</span>, <span style=\"color: #00af00; text-decoration-color: #00af00\">7</span>)              │           <span style=\"color: #00af00; text-decoration-color: #00af00\">903</span> │\n",
              "└─────────────────────────────────┴────────────────────────┴───────────────┘\n",
              "</pre>\n"
            ],
            "text/plain": [
              "┏━━━━━━━━━━━━━━━━━━━━━━━━━━━━━━━━━┳━━━━━━━━━━━━━━━━━━━━━━━━┳━━━━━━━━━━━━━━━┓\n",
              "┃\u001b[1m \u001b[0m\u001b[1mLayer (type)                   \u001b[0m\u001b[1m \u001b[0m┃\u001b[1m \u001b[0m\u001b[1mOutput Shape          \u001b[0m\u001b[1m \u001b[0m┃\u001b[1m \u001b[0m\u001b[1m      Param #\u001b[0m\u001b[1m \u001b[0m┃\n",
              "┡━━━━━━━━━━━━━━━━━━━━━━━━━━━━━━━━━╇━━━━━━━━━━━━━━━━━━━━━━━━╇━━━━━━━━━━━━━━━┩\n",
              "│ conv2d_3 (\u001b[38;5;33mConv2D\u001b[0m)               │ (\u001b[38;5;45mNone\u001b[0m, \u001b[38;5;34m114\u001b[0m, \u001b[38;5;34m9\u001b[0m, \u001b[38;5;34m32\u001b[0m)     │           \u001b[38;5;34m320\u001b[0m │\n",
              "├─────────────────────────────────┼────────────────────────┼───────────────┤\n",
              "│ batch_normalization_3           │ (\u001b[38;5;45mNone\u001b[0m, \u001b[38;5;34m114\u001b[0m, \u001b[38;5;34m9\u001b[0m, \u001b[38;5;34m32\u001b[0m)     │           \u001b[38;5;34m128\u001b[0m │\n",
              "│ (\u001b[38;5;33mBatchNormalization\u001b[0m)            │                        │               │\n",
              "├─────────────────────────────────┼────────────────────────┼───────────────┤\n",
              "│ re_lu_3 (\u001b[38;5;33mReLU\u001b[0m)                  │ (\u001b[38;5;45mNone\u001b[0m, \u001b[38;5;34m114\u001b[0m, \u001b[38;5;34m9\u001b[0m, \u001b[38;5;34m32\u001b[0m)     │             \u001b[38;5;34m0\u001b[0m │\n",
              "├─────────────────────────────────┼────────────────────────┼───────────────┤\n",
              "│ max_pooling2d_2 (\u001b[38;5;33mMaxPooling2D\u001b[0m)  │ (\u001b[38;5;45mNone\u001b[0m, \u001b[38;5;34m57\u001b[0m, \u001b[38;5;34m4\u001b[0m, \u001b[38;5;34m32\u001b[0m)      │             \u001b[38;5;34m0\u001b[0m │\n",
              "├─────────────────────────────────┼────────────────────────┼───────────────┤\n",
              "│ conv2d_4 (\u001b[38;5;33mConv2D\u001b[0m)               │ (\u001b[38;5;45mNone\u001b[0m, \u001b[38;5;34m57\u001b[0m, \u001b[38;5;34m4\u001b[0m, \u001b[38;5;34m64\u001b[0m)      │        \u001b[38;5;34m18,496\u001b[0m │\n",
              "├─────────────────────────────────┼────────────────────────┼───────────────┤\n",
              "│ batch_normalization_4           │ (\u001b[38;5;45mNone\u001b[0m, \u001b[38;5;34m57\u001b[0m, \u001b[38;5;34m4\u001b[0m, \u001b[38;5;34m64\u001b[0m)      │           \u001b[38;5;34m256\u001b[0m │\n",
              "│ (\u001b[38;5;33mBatchNormalization\u001b[0m)            │                        │               │\n",
              "├─────────────────────────────────┼────────────────────────┼───────────────┤\n",
              "│ re_lu_4 (\u001b[38;5;33mReLU\u001b[0m)                  │ (\u001b[38;5;45mNone\u001b[0m, \u001b[38;5;34m57\u001b[0m, \u001b[38;5;34m4\u001b[0m, \u001b[38;5;34m64\u001b[0m)      │             \u001b[38;5;34m0\u001b[0m │\n",
              "├─────────────────────────────────┼────────────────────────┼───────────────┤\n",
              "│ max_pooling2d_3 (\u001b[38;5;33mMaxPooling2D\u001b[0m)  │ (\u001b[38;5;45mNone\u001b[0m, \u001b[38;5;34m28\u001b[0m, \u001b[38;5;34m2\u001b[0m, \u001b[38;5;34m64\u001b[0m)      │             \u001b[38;5;34m0\u001b[0m │\n",
              "├─────────────────────────────────┼────────────────────────┼───────────────┤\n",
              "│ conv2d_5 (\u001b[38;5;33mConv2D\u001b[0m)               │ (\u001b[38;5;45mNone\u001b[0m, \u001b[38;5;34m28\u001b[0m, \u001b[38;5;34m2\u001b[0m, \u001b[38;5;34m128\u001b[0m)     │        \u001b[38;5;34m73,856\u001b[0m │\n",
              "├─────────────────────────────────┼────────────────────────┼───────────────┤\n",
              "│ batch_normalization_5           │ (\u001b[38;5;45mNone\u001b[0m, \u001b[38;5;34m28\u001b[0m, \u001b[38;5;34m2\u001b[0m, \u001b[38;5;34m128\u001b[0m)     │           \u001b[38;5;34m512\u001b[0m │\n",
              "│ (\u001b[38;5;33mBatchNormalization\u001b[0m)            │                        │               │\n",
              "├─────────────────────────────────┼────────────────────────┼───────────────┤\n",
              "│ re_lu_5 (\u001b[38;5;33mReLU\u001b[0m)                  │ (\u001b[38;5;45mNone\u001b[0m, \u001b[38;5;34m28\u001b[0m, \u001b[38;5;34m2\u001b[0m, \u001b[38;5;34m128\u001b[0m)     │             \u001b[38;5;34m0\u001b[0m │\n",
              "├─────────────────────────────────┼────────────────────────┼───────────────┤\n",
              "│ flatten (\u001b[38;5;33mFlatten\u001b[0m)               │ (\u001b[38;5;45mNone\u001b[0m, \u001b[38;5;34m7168\u001b[0m)           │             \u001b[38;5;34m0\u001b[0m │\n",
              "├─────────────────────────────────┼────────────────────────┼───────────────┤\n",
              "│ dense_2 (\u001b[38;5;33mDense\u001b[0m)                 │ (\u001b[38;5;45mNone\u001b[0m, \u001b[38;5;34m128\u001b[0m)            │       \u001b[38;5;34m917,632\u001b[0m │\n",
              "├─────────────────────────────────┼────────────────────────┼───────────────┤\n",
              "│ dropout_1 (\u001b[38;5;33mDropout\u001b[0m)             │ (\u001b[38;5;45mNone\u001b[0m, \u001b[38;5;34m128\u001b[0m)            │             \u001b[38;5;34m0\u001b[0m │\n",
              "├─────────────────────────────────┼────────────────────────┼───────────────┤\n",
              "│ dense_3 (\u001b[38;5;33mDense\u001b[0m)                 │ (\u001b[38;5;45mNone\u001b[0m, \u001b[38;5;34m7\u001b[0m)              │           \u001b[38;5;34m903\u001b[0m │\n",
              "└─────────────────────────────────┴────────────────────────┴───────────────┘\n"
            ]
          },
          "metadata": {},
          "output_type": "display_data"
        },
        {
          "data": {
            "text/html": [
              "<pre style=\"white-space:pre;overflow-x:auto;line-height:normal;font-family:Menlo,'DejaVu Sans Mono',consolas,'Courier New',monospace\"><span style=\"font-weight: bold\"> Total params: </span><span style=\"color: #00af00; text-decoration-color: #00af00\">1,012,103</span> (3.86 MB)\n",
              "</pre>\n"
            ],
            "text/plain": [
              "\u001b[1m Total params: \u001b[0m\u001b[38;5;34m1,012,103\u001b[0m (3.86 MB)\n"
            ]
          },
          "metadata": {},
          "output_type": "display_data"
        },
        {
          "data": {
            "text/html": [
              "<pre style=\"white-space:pre;overflow-x:auto;line-height:normal;font-family:Menlo,'DejaVu Sans Mono',consolas,'Courier New',monospace\"><span style=\"font-weight: bold\"> Trainable params: </span><span style=\"color: #00af00; text-decoration-color: #00af00\">1,011,655</span> (3.86 MB)\n",
              "</pre>\n"
            ],
            "text/plain": [
              "\u001b[1m Trainable params: \u001b[0m\u001b[38;5;34m1,011,655\u001b[0m (3.86 MB)\n"
            ]
          },
          "metadata": {},
          "output_type": "display_data"
        },
        {
          "data": {
            "text/html": [
              "<pre style=\"white-space:pre;overflow-x:auto;line-height:normal;font-family:Menlo,'DejaVu Sans Mono',consolas,'Courier New',monospace\"><span style=\"font-weight: bold\"> Non-trainable params: </span><span style=\"color: #00af00; text-decoration-color: #00af00\">448</span> (1.75 KB)\n",
              "</pre>\n"
            ],
            "text/plain": [
              "\u001b[1m Non-trainable params: \u001b[0m\u001b[38;5;34m448\u001b[0m (1.75 KB)\n"
            ]
          },
          "metadata": {},
          "output_type": "display_data"
        }
      ],
      "source": [
        "import tensorflow as tf\n",
        "\n",
        "num_classes = 7\n",
        "\n",
        "model = tf.keras.Sequential([\n",
        "    # 1. CNN katmanları (özellik çıkarma)\n",
        "    tf.keras.layers.Conv2D(32, (3,3), padding='same',\n",
        "                           kernel_regularizer=tf.keras.regularizers.l2(1e-4),\n",
        "                           input_shape=(114, 9, 1)),\n",
        "    tf.keras.layers.BatchNormalization(),\n",
        "    tf.keras.layers.ReLU(),\n",
        "    tf.keras.layers.MaxPooling2D((2,2)),\n",
        "\n",
        "    tf.keras.layers.Conv2D(64, (3,3), padding='same',\n",
        "                           kernel_regularizer=tf.keras.regularizers.l2(1e-4)),\n",
        "    tf.keras.layers.BatchNormalization(),\n",
        "    tf.keras.layers.ReLU(),\n",
        "    tf.keras.layers.MaxPooling2D((2,2)),\n",
        "\n",
        "    tf.keras.layers.Conv2D(128, (3,3), padding='same',\n",
        "                           kernel_regularizer=tf.keras.regularizers.l2(1e-4)),\n",
        "    tf.keras.layers.BatchNormalization(),\n",
        "    tf.keras.layers.ReLU(),\n",
        "\n",
        "    # Flatten the output for dense layers\n",
        "    tf.keras.layers.Flatten(),\n",
        "\n",
        "    # 3. Dense katmanlar\n",
        "    tf.keras.layers.Dense(128, activation='relu',\n",
        "                          kernel_regularizer=tf.keras.regularizers.l2(1e-4)),\n",
        "    tf.keras.layers.Dropout(0.4),\n",
        "    tf.keras.layers.Dense(num_classes, activation='softmax')\n",
        "])\n",
        "\n",
        "# Loss + optimizer\n",
        "loss = tf.keras.losses.CategoricalCrossentropy(label_smoothing=0.01)\n",
        "optimizer = tf.keras.optimizers.Adam(learning_rate=1e-4)\n",
        "\n",
        "model.compile(optimizer=optimizer, loss=loss, metrics=['accuracy'])\n",
        "model.summary()"
      ]
    },
    {
      "cell_type": "code",
      "execution_count": null,
      "metadata": {
        "colab": {
          "background_save": true,
          "base_uri": "https://localhost:8080/"
        },
        "id": "Mbprkg6Qcrci",
        "outputId": "73e54ff8-bab9-495d-e4c4-4804fd65669f"
      },
      "outputs": [
        {
          "name": "stdout",
          "output_type": "stream",
          "text": [
            "Epoch 1/100\n",
            "\u001b[1m1685/1685\u001b[0m \u001b[32m━━━━━━━━━━━━━━━━━━━━\u001b[0m\u001b[37m\u001b[0m \u001b[1m180s\u001b[0m 105ms/step - accuracy: 0.4996 - loss: 1.4722 - val_accuracy: 0.6957 - val_loss: 0.9962 - learning_rate: 1.0000e-04\n",
            "Epoch 2/100\n",
            "\u001b[1m1685/1685\u001b[0m \u001b[32m━━━━━━━━━━━━━━━━━━━━\u001b[0m\u001b[37m\u001b[0m \u001b[1m201s\u001b[0m 104ms/step - accuracy: 0.6601 - loss: 1.0458 - val_accuracy: 0.7383 - val_loss: 0.8103 - learning_rate: 1.0000e-04\n",
            "Epoch 3/100\n",
            "\u001b[1m1685/1685\u001b[0m \u001b[32m━━━━━━━━━━━━━━━━━━━━\u001b[0m\u001b[37m\u001b[0m \u001b[1m173s\u001b[0m 103ms/step - accuracy: 0.7103 - loss: 0.8948 - val_accuracy: 0.7676 - val_loss: 0.7099 - learning_rate: 1.0000e-04\n",
            "Epoch 4/100\n",
            "\u001b[1m1685/1685\u001b[0m \u001b[32m━━━━━━━━━━━━━━━━━━━━\u001b[0m\u001b[37m\u001b[0m \u001b[1m201s\u001b[0m 102ms/step - accuracy: 0.7412 - loss: 0.8052 - val_accuracy: 0.7898 - val_loss: 0.6754 - learning_rate: 1.0000e-04\n",
            "Epoch 5/100\n",
            "\u001b[1m1685/1685\u001b[0m \u001b[32m━━━━━━━━━━━━━━━━━━━━\u001b[0m\u001b[37m\u001b[0m \u001b[1m172s\u001b[0m 102ms/step - accuracy: 0.7599 - loss: 0.7536 - val_accuracy: 0.8028 - val_loss: 0.6333 - learning_rate: 1.0000e-04\n",
            "Epoch 6/100\n",
            "\u001b[1m1685/1685\u001b[0m \u001b[32m━━━━━━━━━━━━━━━━━━━━\u001b[0m\u001b[37m\u001b[0m \u001b[1m203s\u001b[0m 103ms/step - accuracy: 0.7739 - loss: 0.7096 - val_accuracy: 0.8232 - val_loss: 0.5983 - learning_rate: 1.0000e-04\n",
            "Epoch 7/100\n",
            "\u001b[1m1685/1685\u001b[0m \u001b[32m━━━━━━━━━━━━━━━━━━━━\u001b[0m\u001b[37m\u001b[0m \u001b[1m203s\u001b[0m 103ms/step - accuracy: 0.7864 - loss: 0.6843 - val_accuracy: 0.8209 - val_loss: 0.5949 - learning_rate: 1.0000e-04\n",
            "Epoch 8/100\n",
            "\u001b[1m1685/1685\u001b[0m \u001b[32m━━━━━━━━━━━━━━━━━━━━\u001b[0m\u001b[37m\u001b[0m \u001b[1m176s\u001b[0m 104ms/step - accuracy: 0.7942 - loss: 0.6577 - val_accuracy: 0.8260 - val_loss: 0.5725 - learning_rate: 1.0000e-04\n",
            "Epoch 9/100\n",
            "\u001b[1m1685/1685\u001b[0m \u001b[32m━━━━━━━━━━━━━━━━━━━━\u001b[0m\u001b[37m\u001b[0m \u001b[1m200s\u001b[0m 103ms/step - accuracy: 0.8052 - loss: 0.6339 - val_accuracy: 0.8263 - val_loss: 0.5566 - learning_rate: 1.0000e-04\n",
            "Epoch 10/100\n",
            "\u001b[1m1685/1685\u001b[0m \u001b[32m━━━━━━━━━━━━━━━━━━━━\u001b[0m\u001b[37m\u001b[0m \u001b[1m173s\u001b[0m 103ms/step - accuracy: 0.8159 - loss: 0.6003 - val_accuracy: 0.8453 - val_loss: 0.5194 - learning_rate: 1.0000e-04\n",
            "Epoch 11/100\n",
            "\u001b[1m1685/1685\u001b[0m \u001b[32m━━━━━━━━━━━━━━━━━━━━\u001b[0m\u001b[37m\u001b[0m \u001b[1m201s\u001b[0m 102ms/step - accuracy: 0.8189 - loss: 0.5964 - val_accuracy: 0.8560 - val_loss: 0.5072 - learning_rate: 1.0000e-04\n",
            "Epoch 12/100\n",
            "\u001b[1m1685/1685\u001b[0m \u001b[32m━━━━━━━━━━━━━━━━━━━━\u001b[0m\u001b[37m\u001b[0m \u001b[1m202s\u001b[0m 102ms/step - accuracy: 0.8284 - loss: 0.5712 - val_accuracy: 0.8589 - val_loss: 0.4940 - learning_rate: 1.0000e-04\n",
            "Epoch 13/100\n",
            "\u001b[1m1685/1685\u001b[0m \u001b[32m━━━━━━━━━━━━━━━━━━━━\u001b[0m\u001b[37m\u001b[0m \u001b[1m202s\u001b[0m 102ms/step - accuracy: 0.8327 - loss: 0.5604 - val_accuracy: 0.8558 - val_loss: 0.4946 - learning_rate: 1.0000e-04\n",
            "Epoch 14/100\n",
            "\u001b[1m1685/1685\u001b[0m \u001b[32m━━━━━━━━━━━━━━━━━━━━\u001b[0m\u001b[37m\u001b[0m \u001b[1m173s\u001b[0m 103ms/step - accuracy: 0.8359 - loss: 0.5499 - val_accuracy: 0.8625 - val_loss: 0.4826 - learning_rate: 1.0000e-04\n",
            "Epoch 15/100\n",
            "\u001b[1m1685/1685\u001b[0m \u001b[32m━━━━━━━━━━━━━━━━━━━━\u001b[0m\u001b[37m\u001b[0m \u001b[1m202s\u001b[0m 103ms/step - accuracy: 0.8403 - loss: 0.5399 - val_accuracy: 0.8594 - val_loss: 0.4788 - learning_rate: 1.0000e-04\n",
            "Epoch 16/100\n",
            "\u001b[1m1685/1685\u001b[0m \u001b[32m━━━━━━━━━━━━━━━━━━━━\u001b[0m\u001b[37m\u001b[0m \u001b[1m205s\u001b[0m 104ms/step - accuracy: 0.8478 - loss: 0.5243 - val_accuracy: 0.8622 - val_loss: 0.4757 - learning_rate: 1.0000e-04\n",
            "Epoch 17/100\n",
            "\u001b[1m1685/1685\u001b[0m \u001b[32m━━━━━━━━━━━━━━━━━━━━\u001b[0m\u001b[37m\u001b[0m \u001b[1m175s\u001b[0m 104ms/step - accuracy: 0.8495 - loss: 0.5223 - val_accuracy: 0.8723 - val_loss: 0.4574 - learning_rate: 1.0000e-04\n",
            "Epoch 18/100\n",
            "\u001b[1m1685/1685\u001b[0m \u001b[32m━━━━━━━━━━━━━━━━━━━━\u001b[0m\u001b[37m\u001b[0m \u001b[1m204s\u001b[0m 105ms/step - accuracy: 0.8565 - loss: 0.5014 - val_accuracy: 0.8738 - val_loss: 0.4580 - learning_rate: 1.0000e-04\n",
            "Epoch 19/100\n",
            "\u001b[1m1685/1685\u001b[0m \u001b[32m━━━━━━━━━━━━━━━━━━━━\u001b[0m\u001b[37m\u001b[0m \u001b[1m198s\u001b[0m 103ms/step - accuracy: 0.8577 - loss: 0.5002 - val_accuracy: 0.8748 - val_loss: 0.4576 - learning_rate: 1.0000e-04\n",
            "Epoch 20/100\n",
            "\u001b[1m1685/1685\u001b[0m \u001b[32m━━━━━━━━━━━━━━━━━━━━\u001b[0m\u001b[37m\u001b[0m \u001b[1m172s\u001b[0m 102ms/step - accuracy: 0.8611 - loss: 0.4883 - val_accuracy: 0.8716 - val_loss: 0.4528 - learning_rate: 1.0000e-04\n",
            "Epoch 21/100\n",
            "\u001b[1m1685/1685\u001b[0m \u001b[32m━━━━━━━━━━━━━━━━━━━━\u001b[0m\u001b[37m\u001b[0m \u001b[1m171s\u001b[0m 101ms/step - accuracy: 0.8618 - loss: 0.4840 - val_accuracy: 0.8828 - val_loss: 0.4331 - learning_rate: 1.0000e-04\n",
            "Epoch 22/100\n",
            "\u001b[1m1685/1685\u001b[0m \u001b[32m━━━━━━━━━━━━━━━━━━━━\u001b[0m\u001b[37m\u001b[0m \u001b[1m172s\u001b[0m 102ms/step - accuracy: 0.8649 - loss: 0.4816 - val_accuracy: 0.8780 - val_loss: 0.4402 - learning_rate: 1.0000e-04\n",
            "Epoch 23/100\n",
            "\u001b[1m1685/1685\u001b[0m \u001b[32m━━━━━━━━━━━━━━━━━━━━\u001b[0m\u001b[37m\u001b[0m \u001b[1m170s\u001b[0m 101ms/step - accuracy: 0.8706 - loss: 0.4668 - val_accuracy: 0.8822 - val_loss: 0.4339 - learning_rate: 1.0000e-04\n",
            "Epoch 24/100\n",
            "\u001b[1m1685/1685\u001b[0m \u001b[32m━━━━━━━━━━━━━━━━━━━━\u001b[0m\u001b[37m\u001b[0m \u001b[1m171s\u001b[0m 101ms/step - accuracy: 0.8737 - loss: 0.4612 - val_accuracy: 0.8896 - val_loss: 0.4183 - learning_rate: 1.0000e-04\n",
            "Epoch 25/100\n",
            "\u001b[1m1685/1685\u001b[0m \u001b[32m━━━━━━━━━━━━━━━━━━━━\u001b[0m\u001b[37m\u001b[0m \u001b[1m204s\u001b[0m 102ms/step - accuracy: 0.8744 - loss: 0.4557 - val_accuracy: 0.8914 - val_loss: 0.4150 - learning_rate: 1.0000e-04\n",
            "Epoch 26/100\n",
            "\u001b[1m1685/1685\u001b[0m \u001b[32m━━━━━━━━━━━━━━━━━━━━\u001b[0m\u001b[37m\u001b[0m \u001b[1m202s\u001b[0m 102ms/step - accuracy: 0.8798 - loss: 0.4447 - val_accuracy: 0.8937 - val_loss: 0.4063 - learning_rate: 1.0000e-04\n",
            "Epoch 27/100\n",
            "\u001b[1m1685/1685\u001b[0m \u001b[32m━━━━━━━━━━━━━━━━━━━━\u001b[0m\u001b[37m\u001b[0m \u001b[1m202s\u001b[0m 102ms/step - accuracy: 0.8817 - loss: 0.4367 - val_accuracy: 0.8936 - val_loss: 0.4086 - learning_rate: 1.0000e-04\n",
            "Epoch 28/100\n",
            "\u001b[1m1685/1685\u001b[0m \u001b[32m━━━━━━━━━━━━━━━━━━━━\u001b[0m\u001b[37m\u001b[0m \u001b[1m203s\u001b[0m 103ms/step - accuracy: 0.8832 - loss: 0.4353 - val_accuracy: 0.8963 - val_loss: 0.4027 - learning_rate: 1.0000e-04\n",
            "Epoch 29/100\n",
            "\u001b[1m1685/1685\u001b[0m \u001b[32m━━━━━━━━━━━━━━━━━━━━\u001b[0m\u001b[37m\u001b[0m \u001b[1m201s\u001b[0m 102ms/step - accuracy: 0.8825 - loss: 0.4353 - val_accuracy: 0.8990 - val_loss: 0.3979 - learning_rate: 1.0000e-04\n",
            "Epoch 30/100\n",
            "\u001b[1m1685/1685\u001b[0m \u001b[32m━━━━━━━━━━━━━━━━━━━━\u001b[0m\u001b[37m\u001b[0m \u001b[1m201s\u001b[0m 102ms/step - accuracy: 0.8875 - loss: 0.4275 - val_accuracy: 0.8994 - val_loss: 0.3973 - learning_rate: 1.0000e-04\n",
            "Epoch 31/100\n",
            "\u001b[1m1685/1685\u001b[0m \u001b[32m━━━━━━━━━━━━━━━━━━━━\u001b[0m\u001b[37m\u001b[0m \u001b[1m203s\u001b[0m 103ms/step - accuracy: 0.8885 - loss: 0.4264 - val_accuracy: 0.8959 - val_loss: 0.4060 - learning_rate: 1.0000e-04\n",
            "Epoch 32/100\n",
            "\u001b[1m1685/1685\u001b[0m \u001b[32m━━━━━━━━━━━━━━━━━━━━\u001b[0m\u001b[37m\u001b[0m \u001b[1m204s\u001b[0m 104ms/step - accuracy: 0.8910 - loss: 0.4148 - val_accuracy: 0.9050 - val_loss: 0.3855 - learning_rate: 1.0000e-04\n",
            "Epoch 33/100\n",
            "\u001b[1m1685/1685\u001b[0m \u001b[32m━━━━━━━━━━━━━━━━━━━━\u001b[0m\u001b[37m\u001b[0m \u001b[1m204s\u001b[0m 105ms/step - accuracy: 0.8921 - loss: 0.4149 - val_accuracy: 0.8945 - val_loss: 0.4035 - learning_rate: 1.0000e-04\n",
            "Epoch 34/100\n",
            "\u001b[1m1685/1685\u001b[0m \u001b[32m━━━━━━━━━━━━━━━━━━━━\u001b[0m\u001b[37m\u001b[0m \u001b[1m200s\u001b[0m 104ms/step - accuracy: 0.8937 - loss: 0.4140 - val_accuracy: 0.9057 - val_loss: 0.3783 - learning_rate: 1.0000e-04\n",
            "Epoch 35/100\n",
            "\u001b[1m1685/1685\u001b[0m \u001b[32m━━━━━━━━━━━━━━━━━━━━\u001b[0m\u001b[37m\u001b[0m \u001b[1m175s\u001b[0m 104ms/step - accuracy: 0.8974 - loss: 0.4047 - val_accuracy: 0.9049 - val_loss: 0.3860 - learning_rate: 1.0000e-04\n",
            "Epoch 36/100\n",
            "\u001b[1m1685/1685\u001b[0m \u001b[32m━━━━━━━━━━━━━━━━━━━━\u001b[0m\u001b[37m\u001b[0m \u001b[1m200s\u001b[0m 103ms/step - accuracy: 0.8980 - loss: 0.4004 - val_accuracy: 0.9037 - val_loss: 0.3839 - learning_rate: 1.0000e-04\n",
            "Epoch 37/100\n",
            "\u001b[1m1685/1685\u001b[0m \u001b[32m━━━━━━━━━━━━━━━━━━━━\u001b[0m\u001b[37m\u001b[0m \u001b[1m203s\u001b[0m 104ms/step - accuracy: 0.8998 - loss: 0.3978 - val_accuracy: 0.9060 - val_loss: 0.3793 - learning_rate: 1.0000e-04\n",
            "Epoch 38/100\n",
            "\u001b[1m1685/1685\u001b[0m \u001b[32m━━━━━━━━━━━━━━━━━━━━\u001b[0m\u001b[37m\u001b[0m \u001b[1m175s\u001b[0m 104ms/step - accuracy: 0.9009 - loss: 0.3964 - val_accuracy: 0.9124 - val_loss: 0.3748 - learning_rate: 1.0000e-04\n",
            "Epoch 39/100\n",
            "\u001b[1m1685/1685\u001b[0m \u001b[32m━━━━━━━━━━━━━━━━━━━━\u001b[0m\u001b[37m\u001b[0m \u001b[1m203s\u001b[0m 105ms/step - accuracy: 0.9013 - loss: 0.3938 - val_accuracy: 0.9101 - val_loss: 0.3700 - learning_rate: 1.0000e-04\n",
            "Epoch 40/100\n",
            "\u001b[1m1685/1685\u001b[0m \u001b[32m━━━━━━━━━━━━━━━━━━━━\u001b[0m\u001b[37m\u001b[0m \u001b[1m199s\u001b[0m 103ms/step - accuracy: 0.9039 - loss: 0.3875 - val_accuracy: 0.8995 - val_loss: 0.4016 - learning_rate: 1.0000e-04\n",
            "Epoch 41/100\n",
            "\u001b[1m1685/1685\u001b[0m \u001b[32m━━━━━━━━━━━━━━━━━━━━\u001b[0m\u001b[37m\u001b[0m \u001b[1m175s\u001b[0m 104ms/step - accuracy: 0.9004 - loss: 0.3922 - val_accuracy: 0.9132 - val_loss: 0.3582 - learning_rate: 1.0000e-04\n",
            "Epoch 42/100\n",
            "\u001b[1m1685/1685\u001b[0m \u001b[32m━━━━━━━━━━━━━━━━━━━━\u001b[0m\u001b[37m\u001b[0m \u001b[1m201s\u001b[0m 103ms/step - accuracy: 0.9069 - loss: 0.3807 - val_accuracy: 0.9150 - val_loss: 0.3616 - learning_rate: 1.0000e-04\n",
            "Epoch 43/100\n",
            "\u001b[1m1685/1685\u001b[0m \u001b[32m━━━━━━━━━━━━━━━━━━━━\u001b[0m\u001b[37m\u001b[0m \u001b[1m176s\u001b[0m 104ms/step - accuracy: 0.9061 - loss: 0.3797 - val_accuracy: 0.9155 - val_loss: 0.3582 - learning_rate: 1.0000e-04\n",
            "Epoch 44/100\n",
            "\u001b[1m1685/1685\u001b[0m \u001b[32m━━━━━━━━━━━━━━━━━━━━\u001b[0m\u001b[37m\u001b[0m \u001b[1m217s\u001b[0m 113ms/step - accuracy: 0.9080 - loss: 0.3761 - val_accuracy: 0.9153 - val_loss: 0.3575 - learning_rate: 1.0000e-04\n",
            "Epoch 45/100\n",
            "\u001b[1m1685/1685\u001b[0m \u001b[32m━━━━━━━━━━━━━━━━━━━━\u001b[0m\u001b[37m\u001b[0m \u001b[1m192s\u001b[0m 107ms/step - accuracy: 0.9114 - loss: 0.3701 - val_accuracy: 0.9155 - val_loss: 0.3580 - learning_rate: 1.0000e-04\n",
            "Epoch 46/100\n",
            "\u001b[1m1685/1685\u001b[0m \u001b[32m━━━━━━━━━━━━━━━━━━━━\u001b[0m\u001b[37m\u001b[0m \u001b[1m179s\u001b[0m 106ms/step - accuracy: 0.9120 - loss: 0.3685 - val_accuracy: 0.9167 - val_loss: 0.3560 - learning_rate: 1.0000e-04\n",
            "Epoch 47/100\n",
            "\u001b[1m1685/1685\u001b[0m \u001b[32m━━━━━━━━━━━━━━━━━━━━\u001b[0m\u001b[37m\u001b[0m \u001b[1m202s\u001b[0m 106ms/step - accuracy: 0.9131 - loss: 0.3679 - val_accuracy: 0.9210 - val_loss: 0.3478 - learning_rate: 1.0000e-04\n",
            "Epoch 48/100\n",
            "\u001b[1m1685/1685\u001b[0m \u001b[32m━━━━━━━━━━━━━━━━━━━━\u001b[0m\u001b[37m\u001b[0m \u001b[1m177s\u001b[0m 105ms/step - accuracy: 0.9141 - loss: 0.3652 - val_accuracy: 0.9204 - val_loss: 0.3508 - learning_rate: 1.0000e-04\n",
            "Epoch 49/100\n",
            "\u001b[1m1685/1685\u001b[0m \u001b[32m━━━━━━━━━━━━━━━━━━━━\u001b[0m\u001b[37m\u001b[0m \u001b[1m178s\u001b[0m 106ms/step - accuracy: 0.9194 - loss: 0.3545 - val_accuracy: 0.9150 - val_loss: 0.3626 - learning_rate: 1.0000e-04\n",
            "Epoch 50/100\n",
            "\u001b[1m1685/1685\u001b[0m \u001b[32m━━━━━━━━━━━━━━━━━━━━\u001b[0m\u001b[37m\u001b[0m \u001b[1m201s\u001b[0m 105ms/step - accuracy: 0.9169 - loss: 0.3566 - val_accuracy: 0.9052 - val_loss: 0.3800 - learning_rate: 1.0000e-04\n",
            "Epoch 51/100\n",
            "\u001b[1m1685/1685\u001b[0m \u001b[32m━━━━━━━━━━━━━━━━━━━━\u001b[0m\u001b[37m\u001b[0m \u001b[1m202s\u001b[0m 105ms/step - accuracy: 0.9182 - loss: 0.3566 - val_accuracy: 0.9225 - val_loss: 0.3458 - learning_rate: 1.0000e-04\n",
            "Epoch 52/100\n",
            "\u001b[1m1685/1685\u001b[0m \u001b[32m━━━━━━━━━━━━━━━━━━━━\u001b[0m\u001b[37m\u001b[0m \u001b[1m198s\u001b[0m 103ms/step - accuracy: 0.9217 - loss: 0.3533 - val_accuracy: 0.9212 - val_loss: 0.3504 - learning_rate: 1.0000e-04\n",
            "Epoch 53/100\n",
            "\u001b[1m1685/1685\u001b[0m \u001b[32m━━━━━━━━━━━━━━━━━━━━\u001b[0m\u001b[37m\u001b[0m \u001b[1m204s\u001b[0m 104ms/step - accuracy: 0.9211 - loss: 0.3506 - val_accuracy: 0.9207 - val_loss: 0.3462 - learning_rate: 1.0000e-04\n",
            "Epoch 54/100\n",
            "\u001b[1m1685/1685\u001b[0m \u001b[32m━━━━━━━━━━━━━━━━━━━━\u001b[0m\u001b[37m\u001b[0m \u001b[1m203s\u001b[0m 105ms/step - accuracy: 0.9234 - loss: 0.3460 - val_accuracy: 0.9159 - val_loss: 0.3644 - learning_rate: 1.0000e-04\n",
            "Epoch 55/100\n",
            "\u001b[1m1685/1685\u001b[0m \u001b[32m━━━━━━━━━━━━━━━━━━━━\u001b[0m\u001b[37m\u001b[0m \u001b[1m207s\u001b[0m 108ms/step - accuracy: 0.9242 - loss: 0.3436 - val_accuracy: 0.9237 - val_loss: 0.3451 - learning_rate: 1.0000e-04\n",
            "Epoch 56/100\n",
            "\u001b[1m1685/1685\u001b[0m \u001b[32m━━━━━━━━━━━━━━━━━━━━\u001b[0m\u001b[37m\u001b[0m \u001b[1m201s\u001b[0m 107ms/step - accuracy: 0.9220 - loss: 0.3492 - val_accuracy: 0.9210 - val_loss: 0.3496 - learning_rate: 1.0000e-04\n",
            "Epoch 57/100\n",
            "\u001b[1m1685/1685\u001b[0m \u001b[32m━━━━━━━━━━━━━━━━━━━━\u001b[0m\u001b[37m\u001b[0m \u001b[1m200s\u001b[0m 106ms/step - accuracy: 0.9254 - loss: 0.3413 - val_accuracy: 0.9216 - val_loss: 0.3439 - learning_rate: 1.0000e-04\n",
            "Epoch 58/100\n",
            "\u001b[1m1685/1685\u001b[0m \u001b[32m━━━━━━━━━━━━━━━━━━━━\u001b[0m\u001b[37m\u001b[0m \u001b[1m199s\u001b[0m 105ms/step - accuracy: 0.9257 - loss: 0.3407 - val_accuracy: 0.9232 - val_loss: 0.3459 - learning_rate: 1.0000e-04\n",
            "Epoch 59/100\n",
            "\u001b[1m1685/1685\u001b[0m \u001b[32m━━━━━━━━━━━━━━━━━━━━\u001b[0m\u001b[37m\u001b[0m \u001b[1m179s\u001b[0m 106ms/step - accuracy: 0.9266 - loss: 0.3368 - val_accuracy: 0.9221 - val_loss: 0.3421 - learning_rate: 1.0000e-04\n",
            "Epoch 60/100\n",
            "\u001b[1m1685/1685\u001b[0m \u001b[32m━━━━━━━━━━━━━━━━━━━━\u001b[0m\u001b[37m\u001b[0m \u001b[1m201s\u001b[0m 105ms/step - accuracy: 0.9283 - loss: 0.3332 - val_accuracy: 0.9169 - val_loss: 0.3592 - learning_rate: 1.0000e-04\n",
            "Epoch 61/100\n",
            "\u001b[1m1685/1685\u001b[0m \u001b[32m━━━━━━━━━━━━━━━━━━━━\u001b[0m\u001b[37m\u001b[0m \u001b[1m202s\u001b[0m 105ms/step - accuracy: 0.9279 - loss: 0.3347 - val_accuracy: 0.9265 - val_loss: 0.3402 - learning_rate: 1.0000e-04\n",
            "Epoch 62/100\n",
            "\u001b[1m1685/1685\u001b[0m \u001b[32m━━━━━━━━━━━━━━━━━━━━\u001b[0m\u001b[37m\u001b[0m \u001b[1m175s\u001b[0m 104ms/step - accuracy: 0.9317 - loss: 0.3286 - val_accuracy: 0.9269 - val_loss: 0.3335 - learning_rate: 1.0000e-04\n",
            "Epoch 63/100\n",
            "\u001b[1m1685/1685\u001b[0m \u001b[32m━━━━━━━━━━━━━━━━━━━━\u001b[0m\u001b[37m\u001b[0m \u001b[1m177s\u001b[0m 105ms/step - accuracy: 0.9279 - loss: 0.3332 - val_accuracy: 0.9246 - val_loss: 0.3399 - learning_rate: 1.0000e-04\n",
            "Epoch 64/100\n",
            "\u001b[1m1685/1685\u001b[0m \u001b[32m━━━━━━━━━━━━━━━━━━━━\u001b[0m\u001b[37m\u001b[0m \u001b[1m199s\u001b[0m 103ms/step - accuracy: 0.9314 - loss: 0.3274 - val_accuracy: 0.9277 - val_loss: 0.3338 - learning_rate: 1.0000e-04\n",
            "Epoch 65/100\n",
            "\u001b[1m1685/1685\u001b[0m \u001b[32m━━━━━━━━━━━━━━━━━━━━\u001b[0m\u001b[37m\u001b[0m \u001b[1m203s\u001b[0m 104ms/step - accuracy: 0.9320 - loss: 0.3243 - val_accuracy: 0.9236 - val_loss: 0.3458 - learning_rate: 1.0000e-04\n",
            "Epoch 66/100\n",
            "\u001b[1m1685/1685\u001b[0m \u001b[32m━━━━━━━━━━━━━━━━━━━━\u001b[0m\u001b[37m\u001b[0m \u001b[1m204s\u001b[0m 105ms/step - accuracy: 0.9337 - loss: 0.3256 - val_accuracy: 0.9212 - val_loss: 0.3464 - learning_rate: 1.0000e-04\n",
            "Epoch 67/100\n",
            "\u001b[1m1685/1685\u001b[0m \u001b[32m━━━━━━━━━━━━━━━━━━━━\u001b[0m\u001b[37m\u001b[0m \u001b[1m177s\u001b[0m 105ms/step - accuracy: 0.9358 - loss: 0.3200 - val_accuracy: 0.9293 - val_loss: 0.3323 - learning_rate: 1.0000e-04\n",
            "Epoch 68/100\n",
            "\u001b[1m1685/1685\u001b[0m \u001b[32m━━━━━━━━━━━━━━━━━━━━\u001b[0m\u001b[37m\u001b[0m \u001b[1m200s\u001b[0m 104ms/step - accuracy: 0.9324 - loss: 0.3214 - val_accuracy: 0.9220 - val_loss: 0.3495 - learning_rate: 1.0000e-04\n",
            "Epoch 69/100\n",
            "\u001b[1m1685/1685\u001b[0m \u001b[32m━━━━━━━━━━━━━━━━━━━━\u001b[0m\u001b[37m\u001b[0m \u001b[1m203s\u001b[0m 105ms/step - accuracy: 0.9318 - loss: 0.3179 - val_accuracy: 0.9256 - val_loss: 0.3423 - learning_rate: 1.0000e-04\n",
            "Epoch 70/100\n",
            "\u001b[1m1685/1685\u001b[0m \u001b[32m━━━━━━━━━━━━━━━━━━━━\u001b[0m\u001b[37m\u001b[0m \u001b[1m200s\u001b[0m 104ms/step - accuracy: 0.9341 - loss: 0.3164 - val_accuracy: 0.9325 - val_loss: 0.3219 - learning_rate: 1.0000e-04\n",
            "Epoch 71/100\n",
            "\u001b[1m1685/1685\u001b[0m \u001b[32m━━━━━━━━━━━━━━━━━━━━\u001b[0m\u001b[37m\u001b[0m \u001b[1m176s\u001b[0m 105ms/step - accuracy: 0.9406 - loss: 0.3092 - val_accuracy: 0.9273 - val_loss: 0.3387 - learning_rate: 1.0000e-04\n",
            "Epoch 72/100\n",
            "\u001b[1m1685/1685\u001b[0m \u001b[32m━━━━━━━━━━━━━━━━━━━━\u001b[0m\u001b[37m\u001b[0m \u001b[1m203s\u001b[0m 105ms/step - accuracy: 0.9366 - loss: 0.3131 - val_accuracy: 0.9297 - val_loss: 0.3250 - learning_rate: 1.0000e-04\n",
            "Epoch 73/100\n",
            "\u001b[1m1685/1685\u001b[0m \u001b[32m━━━━━━━━━━━━━━━━━━━━\u001b[0m\u001b[37m\u001b[0m \u001b[1m200s\u001b[0m 104ms/step - accuracy: 0.9372 - loss: 0.3105 - val_accuracy: 0.9295 - val_loss: 0.3407 - learning_rate: 1.0000e-04\n",
            "Epoch 74/100\n",
            "\u001b[1m1685/1685\u001b[0m \u001b[32m━━━━━━━━━━━━━━━━━━━━\u001b[0m\u001b[37m\u001b[0m \u001b[1m175s\u001b[0m 104ms/step - accuracy: 0.9389 - loss: 0.3085 - val_accuracy: 0.9267 - val_loss: 0.3359 - learning_rate: 1.0000e-04\n",
            "Epoch 75/100\n",
            "\u001b[1m1685/1685\u001b[0m \u001b[32m━━━━━━━━━━━━━━━━━━━━\u001b[0m\u001b[37m\u001b[0m \u001b[1m197s\u001b[0m 101ms/step - accuracy: 0.9399 - loss: 0.3068 - val_accuracy: 0.9251 - val_loss: 0.3450 - learning_rate: 1.0000e-04\n",
            "Epoch 76/100\n",
            "\u001b[1m1685/1685\u001b[0m \u001b[32m━━━━━━━━━━━━━━━━━━━━\u001b[0m\u001b[37m\u001b[0m \u001b[1m170s\u001b[0m 101ms/step - accuracy: 0.9488 - loss: 0.2851 - val_accuracy: 0.9363 - val_loss: 0.3112 - learning_rate: 5.0000e-05\n",
            "Epoch 77/100\n",
            "\u001b[1m1685/1685\u001b[0m \u001b[32m━━━━━━━━━━━━━━━━━━━━\u001b[0m\u001b[37m\u001b[0m \u001b[1m202s\u001b[0m 101ms/step - accuracy: 0.9553 - loss: 0.2735 - val_accuracy: 0.9364 - val_loss: 0.3175 - learning_rate: 5.0000e-05\n",
            "Epoch 78/100\n",
            "\u001b[1m1685/1685\u001b[0m \u001b[32m━━━━━━━━━━━━━━━━━━━━\u001b[0m\u001b[37m\u001b[0m \u001b[1m201s\u001b[0m 100ms/step - accuracy: 0.9551 - loss: 0.2734 - val_accuracy: 0.9371 - val_loss: 0.3155 - learning_rate: 5.0000e-05\n",
            "Epoch 79/100\n",
            "\u001b[1m1685/1685\u001b[0m \u001b[32m━━━━━━━━━━━━━━━━━━━━\u001b[0m\u001b[37m\u001b[0m \u001b[1m204s\u001b[0m 101ms/step - accuracy: 0.9583 - loss: 0.2666 - val_accuracy: 0.9379 - val_loss: 0.3111 - learning_rate: 5.0000e-05\n",
            "Epoch 80/100\n",
            "\u001b[1m1685/1685\u001b[0m \u001b[32m━━━━━━━━━━━━━━━━━━━━\u001b[0m\u001b[37m\u001b[0m \u001b[1m202s\u001b[0m 101ms/step - accuracy: 0.9570 - loss: 0.2679 - val_accuracy: 0.9388 - val_loss: 0.3091 - learning_rate: 5.0000e-05\n",
            "Epoch 81/100\n",
            "\u001b[1m1685/1685\u001b[0m \u001b[32m━━━━━━━━━━━━━━━━━━━━\u001b[0m\u001b[37m\u001b[0m \u001b[1m203s\u001b[0m 102ms/step - accuracy: 0.9575 - loss: 0.2651 - val_accuracy: 0.9385 - val_loss: 0.3123 - learning_rate: 5.0000e-05\n",
            "Epoch 82/100\n",
            "\u001b[1m1685/1685\u001b[0m \u001b[32m━━━━━━━━━━━━━━━━━━━━\u001b[0m\u001b[37m\u001b[0m \u001b[1m200s\u001b[0m 101ms/step - accuracy: 0.9576 - loss: 0.2668 - val_accuracy: 0.9355 - val_loss: 0.3152 - learning_rate: 5.0000e-05\n",
            "Epoch 83/100\n",
            "\u001b[1m1685/1685\u001b[0m \u001b[32m━━━━━━━━━━━━━━━━━━━━\u001b[0m\u001b[37m\u001b[0m \u001b[1m202s\u001b[0m 101ms/step - accuracy: 0.9579 - loss: 0.2631 - val_accuracy: 0.9377 - val_loss: 0.3083 - learning_rate: 5.0000e-05\n",
            "Epoch 84/100\n",
            "\u001b[1m1685/1685\u001b[0m \u001b[32m━━━━━━━━━━━━━━━━━━━━\u001b[0m\u001b[37m\u001b[0m \u001b[1m202s\u001b[0m 101ms/step - accuracy: 0.9593 - loss: 0.2613 - val_accuracy: 0.9405 - val_loss: 0.3081 - learning_rate: 5.0000e-05\n",
            "Epoch 85/100\n",
            "\u001b[1m1685/1685\u001b[0m \u001b[32m━━━━━━━━━━━━━━━━━━━━\u001b[0m\u001b[37m\u001b[0m \u001b[1m203s\u001b[0m 102ms/step - accuracy: 0.9581 - loss: 0.2635 - val_accuracy: 0.9390 - val_loss: 0.3087 - learning_rate: 5.0000e-05\n",
            "Epoch 86/100\n",
            "\u001b[1m1685/1685\u001b[0m \u001b[32m━━━━━━━━━━━━━━━━━━━━\u001b[0m\u001b[37m\u001b[0m \u001b[1m200s\u001b[0m 101ms/step - accuracy: 0.9598 - loss: 0.2582 - val_accuracy: 0.9400 - val_loss: 0.3021 - learning_rate: 5.0000e-05\n",
            "Epoch 87/100\n",
            "\u001b[1m1685/1685\u001b[0m \u001b[32m━━━━━━━━━━━━━━━━━━━━\u001b[0m\u001b[37m\u001b[0m \u001b[1m203s\u001b[0m 101ms/step - accuracy: 0.9610 - loss: 0.2571 - val_accuracy: 0.9383 - val_loss: 0.3084 - learning_rate: 5.0000e-05\n",
            "Epoch 88/100\n",
            "\u001b[1m1685/1685\u001b[0m \u001b[32m━━━━━━━━━━━━━━━━━━━━\u001b[0m\u001b[37m\u001b[0m \u001b[1m170s\u001b[0m 101ms/step - accuracy: 0.9598 - loss: 0.2556 - val_accuracy: 0.9427 - val_loss: 0.3018 - learning_rate: 5.0000e-05\n",
            "Epoch 89/100\n",
            "\u001b[1m1685/1685\u001b[0m \u001b[32m━━━━━━━━━━━━━━━━━━━━\u001b[0m\u001b[37m\u001b[0m \u001b[1m203s\u001b[0m 102ms/step - accuracy: 0.9608 - loss: 0.2584 - val_accuracy: 0.9392 - val_loss: 0.3036 - learning_rate: 5.0000e-05\n",
            "Epoch 90/100\n",
            "\u001b[1m1685/1685\u001b[0m \u001b[32m━━━━━━━━━━━━━━━━━━━━\u001b[0m\u001b[37m\u001b[0m \u001b[1m202s\u001b[0m 102ms/step - accuracy: 0.9610 - loss: 0.2540 - val_accuracy: 0.9375 - val_loss: 0.3094 - learning_rate: 5.0000e-05\n",
            "Epoch 91/100\n",
            "\u001b[1m1685/1685\u001b[0m \u001b[32m━━━━━━━━━━━━━━━━━━━━\u001b[0m\u001b[37m\u001b[0m \u001b[1m204s\u001b[0m 103ms/step - accuracy: 0.9606 - loss: 0.2551 - val_accuracy: 0.9371 - val_loss: 0.3123 - learning_rate: 5.0000e-05\n",
            "Epoch 92/100\n",
            "\u001b[1m1685/1685\u001b[0m \u001b[32m━━━━━━━━━━━━━━━━━━━━\u001b[0m\u001b[37m\u001b[0m \u001b[1m201s\u001b[0m 103ms/step - accuracy: 0.9634 - loss: 0.2491 - val_accuracy: 0.9382 - val_loss: 0.3105 - learning_rate: 5.0000e-05\n",
            "Epoch 93/100\n",
            "\u001b[1m1685/1685\u001b[0m \u001b[32m━━━━━━━━━━━━━━━━━━━━\u001b[0m\u001b[37m\u001b[0m \u001b[1m204s\u001b[0m 104ms/step - accuracy: 0.9617 - loss: 0.2509 - val_accuracy: 0.9400 - val_loss: 0.3059 - learning_rate: 5.0000e-05\n",
            "Epoch 94/100\n",
            "\u001b[1m1685/1685\u001b[0m \u001b[32m━━━━━━━━━━━━━━━━━━━━\u001b[0m\u001b[37m\u001b[0m \u001b[1m202s\u001b[0m 104ms/step - accuracy: 0.9682 - loss: 0.2405 - val_accuracy: 0.9440 - val_loss: 0.2972 - learning_rate: 2.5000e-05\n",
            "Epoch 95/100\n",
            "\u001b[1m1685/1685\u001b[0m \u001b[32m━━━━━━━━━━━━━━━━━━━━\u001b[0m\u001b[37m\u001b[0m \u001b[1m203s\u001b[0m 105ms/step - accuracy: 0.9691 - loss: 0.2344 - val_accuracy: 0.9457 - val_loss: 0.2968 - learning_rate: 2.5000e-05\n",
            "Epoch 96/100\n",
            "\u001b[1m1685/1685\u001b[0m \u001b[32m━━━━━━━━━━━━━━━━━━━━\u001b[0m\u001b[37m\u001b[0m \u001b[1m200s\u001b[0m 103ms/step - accuracy: 0.9686 - loss: 0.2375 - val_accuracy: 0.9441 - val_loss: 0.2977 - learning_rate: 2.5000e-05\n",
            "Epoch 97/100\n",
            "\u001b[1m1685/1685\u001b[0m \u001b[32m━━━━━━━━━━━━━━━━━━━━\u001b[0m\u001b[37m\u001b[0m \u001b[1m195s\u001b[0m 116ms/step - accuracy: 0.9696 - loss: 0.2355 - val_accuracy: 0.9426 - val_loss: 0.2966 - learning_rate: 2.5000e-05\n",
            "Epoch 98/100\n",
            "\u001b[1m1685/1685\u001b[0m \u001b[32m━━━━━━━━━━━━━━━━━━━━\u001b[0m\u001b[37m\u001b[0m \u001b[1m203s\u001b[0m 116ms/step - accuracy: 0.9698 - loss: 0.2327 - val_accuracy: 0.9431 - val_loss: 0.2980 - learning_rate: 2.5000e-05\n",
            "Epoch 99/100\n",
            "\u001b[1m1685/1685\u001b[0m \u001b[32m━━━━━━━━━━━━━━━━━━━━\u001b[0m\u001b[37m\u001b[0m \u001b[1m183s\u001b[0m 105ms/step - accuracy: 0.9710 - loss: 0.2318 - val_accuracy: 0.9418 - val_loss: 0.2987 - learning_rate: 2.5000e-05\n",
            "Epoch 100/100\n",
            "\u001b[1m1685/1685\u001b[0m \u001b[32m━━━━━━━━━━━━━━━━━━━━\u001b[0m\u001b[37m\u001b[0m \u001b[1m178s\u001b[0m 106ms/step - accuracy: 0.9719 - loss: 0.2298 - val_accuracy: 0.9441 - val_loss: 0.2975 - learning_rate: 2.5000e-05\n"
          ]
        }
      ],
      "source": [
        "# Callback'ler\n",
        "\n",
        "early_stopping = tf.keras.callbacks.EarlyStopping(\n",
        "    monitor='val_loss', patience=10, restore_best_weights=True\n",
        ")\n",
        "\n",
        "reduce_lr = tf.keras.callbacks.ReduceLROnPlateau(\n",
        "    monitor='val_loss', factor=0.5, patience=5, min_lr=1e-6\n",
        ")\n",
        "\n",
        "\n",
        "# Eğitim\n",
        "\n",
        "history = model.fit(\n",
        "    X_train, y_train_cat,\n",
        "    validation_data=(X_test, y_test_cat),\n",
        "    epochs=100,\n",
        "    batch_size=32,\n",
        "    callbacks=[early_stopping, reduce_lr],\n",
        "    verbose=1\n",
        ")"
      ]
    },
    {
      "cell_type": "markdown",
      "source": [
        "**Modelin Kaydedilmesi**"
      ],
      "metadata": {
        "id": "OQA-MyA5Al6v"
      }
    },
    {
      "cell_type": "code",
      "execution_count": null,
      "metadata": {
        "id": "Kzp11m_E72Q-",
        "outputId": "db12a8c7-6701-4835-bd0b-b03fee1213e2",
        "colab": {
          "base_uri": "https://localhost:8080/"
        }
      },
      "outputs": [
        {
          "output_type": "stream",
          "name": "stderr",
          "text": [
            "WARNING:absl:You are saving your model as an HDF5 file via `model.save()` or `keras.saving.save_model(model)`. This file format is considered legacy. We recommend using instead the native Keras format, e.g. `model.save('my_model.keras')` or `keras.saving.save_model(model, 'my_model.keras')`. \n"
          ]
        }
      ],
      "source": [
        "model.save(\"/content/drive/MyDrive/csi_har.h5\")"
      ]
    },
    {
      "cell_type": "code",
      "execution_count": null,
      "metadata": {
        "id": "d4-xErNm76KZ"
      },
      "outputs": [],
      "source": [
        "model.save(\"/content/drive/MyDrive/csi_har_model.keras\")"
      ]
    },
    {
      "cell_type": "markdown",
      "source": [
        "**Model eğitimi sonucu elde edilen eğitim ve validasyon sonuçlarının grafiksel olarak elde edilmesi**"
      ],
      "metadata": {
        "id": "KPqYbLRVArs0"
      }
    },
    {
      "cell_type": "code",
      "execution_count": 24,
      "metadata": {
        "id": "pWh4CSLf448O",
        "colab": {
          "base_uri": "https://localhost:8080/",
          "height": 507
        },
        "outputId": "d78258a7-2d13-417e-a23f-9b0d2a1f9372"
      },
      "outputs": [
        {
          "output_type": "display_data",
          "data": {
            "text/plain": [
              "<Figure size 1200x500 with 2 Axes>"
            ],
            "image/png": "[encoded data removed]"
          },
          "metadata": {}
        }
      ],
      "source": [
        "import matplotlib.pyplot as plt\n",
        "plt.figure(figsize=(12,5))\n",
        "\n",
        "# Loss\n",
        "plt.subplot(1,2,1)\n",
        "plt.plot(history.history['loss'], label='Train Loss')\n",
        "plt.plot(history.history['val_loss'], label='Val Loss')\n",
        "plt.title('Loss Grafiği')\n",
        "plt.xlabel('Epoch')\n",
        "plt.ylabel('Loss')\n",
        "plt.legend()\n",
        "plt.grid(True)\n",
        "\n",
        "# Accuracy\n",
        "plt.subplot(1,2,2)\n",
        "plt.plot(history.history['accuracy'], label='Train Acc')\n",
        "plt.plot(history.history['val_accuracy'], label='Val Acc')\n",
        "plt.title('Accuracy Grafiği')\n",
        "plt.xlabel('Epoch')\n",
        "plt.ylabel('Accuracy')\n",
        "plt.legend()\n",
        "plt.grid(True)\n",
        "\n",
        "plt.tight_layout()\n",
        "plt.show()"
      ]
    },
    {
      "cell_type": "markdown",
      "source": [
        "**Modelin Test Edilmesi**"
      ],
      "metadata": {
        "id": "vTtLFSgTAyBm"
      }
    },
    {
      "cell_type": "code",
      "execution_count": 25,
      "metadata": {
        "id": "WQapXMDA1U53",
        "colab": {
          "base_uri": "https://localhost:8080/"
        },
        "outputId": "d8b16875-5d1c-43ad-c819-a0c4281cc2b6"
      },
      "outputs": [
        {
          "output_type": "stream",
          "name": "stdout",
          "text": [
            "\u001b[1m422/422\u001b[0m \u001b[32m━━━━━━━━━━━━━━━━━━━━\u001b[0m\u001b[37m\u001b[0m \u001b[1m13s\u001b[0m 29ms/step - accuracy: 0.9434 - loss: 0.2952\n",
            "Test Accuracy: 0.9426\n"
          ]
        }
      ],
      "source": [
        "# Test seti ile model değerlendirmesi\n",
        "test_loss, test_acc = model.evaluate(X_test, y_test_cat)\n",
        "print(f\"Test Accuracy: {test_acc:.4f}\")"
      ]
    },
    {
      "cell_type": "code",
      "execution_count": 26,
      "metadata": {
        "id": "nYThcDuf1U8S",
        "colab": {
          "base_uri": "https://localhost:8080/"
        },
        "outputId": "f10ec341-17a6-45d4-f81a-a897f8489cf6"
      },
      "outputs": [
        {
          "output_type": "stream",
          "name": "stdout",
          "text": [
            "\u001b[1m422/422\u001b[0m \u001b[32m━━━━━━━━━━━━━━━━━━━━\u001b[0m\u001b[37m\u001b[0m \u001b[1m11s\u001b[0m 24ms/step\n"
          ]
        }
      ],
      "source": [
        "y_pred_probs = model.predict(X_test)        # Her sınıf için olasılık\n",
        "y_pred = np.argmax(y_pred_probs, axis=1)    # En yüksek olasılıklı sınıfı al\n",
        "y_pred_labels = le.inverse_transform(y_pred) # Orijinal etiketlere çevir"
      ]
    },
    {
      "cell_type": "code",
      "execution_count": 27,
      "metadata": {
        "id": "tHDfyk-y1U-o",
        "colab": {
          "base_uri": "https://localhost:8080/"
        },
        "outputId": "91c8a594-bfa0-4758-aa2f-9cc7630bd833"
      },
      "outputs": [
        {
          "output_type": "stream",
          "name": "stdout",
          "text": [
            "[[ 373    7    7    3   13   19  128]\n",
            " [  32  317   57    2   54    0   37]\n",
            " [   1    6 1455    5    4    0    9]\n",
            " [   0    0    1 1680    1    0   42]\n",
            " [   9    8    0    0 1826    4   21]\n",
            " [   3    0    0    2    8 1349  103]\n",
            " [  19    8    5   28   14  113 5702]]\n",
            "              precision    recall  f1-score   support\n",
            "\n",
            "    get_down       0.85      0.68      0.76       550\n",
            "      get_up       0.92      0.64      0.75       499\n",
            "       lying       0.95      0.98      0.97      1480\n",
            "   no_person       0.98      0.97      0.98      1724\n",
            "     sitting       0.95      0.98      0.96      1868\n",
            "    standing       0.91      0.92      0.91      1465\n",
            "     walking       0.94      0.97      0.96      5889\n",
            "\n",
            "    accuracy                           0.94     13475\n",
            "   macro avg       0.93      0.88      0.90     13475\n",
            "weighted avg       0.94      0.94      0.94     13475\n",
            "\n"
          ]
        }
      ],
      "source": [
        "from sklearn.metrics import confusion_matrix, classification_report\n",
        "\n",
        "print(confusion_matrix(y_test, y_pred_labels))\n",
        "print(classification_report(y_test, y_pred_labels))"
      ]
    },
    {
      "cell_type": "code",
      "execution_count": null,
      "metadata": {
        "id": "VsRW5MtT1VCN"
      },
      "outputs": [],
      "source": []
    },
    {
      "cell_type": "code",
      "execution_count": null,
      "metadata": {
        "id": "0MElIds18tig"
      },
      "outputs": [],
      "source": []
    }
  ],
  "metadata": {
    "colab": {
      "provenance": [],
      "authorship_tag": "ABX9TyPfnknNO4lkXqtNLKI0zGdc",
      "include_colab_link": true
    },
    "kernelspec": {
      "display_name": "Python 3",
      "name": "python3"
    },
    "language_info": {
      "name": "python"
    }
  },
  "nbformat": 4,
  "nbformat_minor": 0
}